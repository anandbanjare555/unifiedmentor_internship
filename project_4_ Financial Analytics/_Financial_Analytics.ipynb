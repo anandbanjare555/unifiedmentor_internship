{
 "cells": [
  {
   "cell_type": "code",
   "execution_count": 1,
   "id": "56dec792-0bc7-4ff2-9055-e97473ef6d2d",
   "metadata": {},
   "outputs": [
    {
     "data": {
      "text/html": [
       "<div>\n",
       "<style scoped>\n",
       "    .dataframe tbody tr th:only-of-type {\n",
       "        vertical-align: middle;\n",
       "    }\n",
       "\n",
       "    .dataframe tbody tr th {\n",
       "        vertical-align: top;\n",
       "    }\n",
       "\n",
       "    .dataframe thead th {\n",
       "        text-align: right;\n",
       "    }\n",
       "</style>\n",
       "<table border=\"1\" class=\"dataframe\">\n",
       "  <thead>\n",
       "    <tr style=\"text-align: right;\">\n",
       "      <th></th>\n",
       "      <th>S.No.</th>\n",
       "      <th>Name</th>\n",
       "      <th>Mar Cap - Crore</th>\n",
       "      <th>Sales Qtr - Crore</th>\n",
       "      <th>Unnamed: 4</th>\n",
       "    </tr>\n",
       "  </thead>\n",
       "  <tbody>\n",
       "    <tr>\n",
       "      <th>0</th>\n",
       "      <td>1</td>\n",
       "      <td>Reliance Inds.</td>\n",
       "      <td>583436.72</td>\n",
       "      <td>99810.00</td>\n",
       "      <td>NaN</td>\n",
       "    </tr>\n",
       "    <tr>\n",
       "      <th>1</th>\n",
       "      <td>2</td>\n",
       "      <td>TCS</td>\n",
       "      <td>563709.84</td>\n",
       "      <td>30904.00</td>\n",
       "      <td>NaN</td>\n",
       "    </tr>\n",
       "    <tr>\n",
       "      <th>2</th>\n",
       "      <td>3</td>\n",
       "      <td>HDFC Bank</td>\n",
       "      <td>482953.59</td>\n",
       "      <td>20581.27</td>\n",
       "      <td>NaN</td>\n",
       "    </tr>\n",
       "    <tr>\n",
       "      <th>3</th>\n",
       "      <td>4</td>\n",
       "      <td>ITC</td>\n",
       "      <td>320985.27</td>\n",
       "      <td>9772.02</td>\n",
       "      <td>NaN</td>\n",
       "    </tr>\n",
       "    <tr>\n",
       "      <th>4</th>\n",
       "      <td>5</td>\n",
       "      <td>H D F C</td>\n",
       "      <td>289497.37</td>\n",
       "      <td>16840.51</td>\n",
       "      <td>NaN</td>\n",
       "    </tr>\n",
       "  </tbody>\n",
       "</table>\n",
       "</div>"
      ],
      "text/plain": [
       "   S.No.            Name  Mar Cap - Crore  Sales Qtr - Crore  Unnamed: 4\n",
       "0      1  Reliance Inds.        583436.72           99810.00         NaN\n",
       "1      2             TCS        563709.84           30904.00         NaN\n",
       "2      3       HDFC Bank        482953.59           20581.27         NaN\n",
       "3      4             ITC        320985.27            9772.02         NaN\n",
       "4      5         H D F C        289497.37           16840.51         NaN"
      ]
     },
     "execution_count": 1,
     "metadata": {},
     "output_type": "execute_result"
    }
   ],
   "source": [
    "import pandas as pd\n",
    "import numpy as np\n",
    "import matplotlib.pyplot as plt\n",
    "import seaborn as sns\n",
    "\n",
    "# Step 1: Import necessary libraries\n",
    "\n",
    "# Step 2: Load the dataset\n",
    "df = pd.read_csv(\"Financial Analytics data.csv\")\n",
    "df.head()"
   ]
  },
  {
   "cell_type": "code",
   "execution_count": 2,
   "id": "41c2da15-8598-467d-84e2-7b09ec42546a",
   "metadata": {},
   "outputs": [
    {
     "data": {
      "text/plain": [
       "S.No.                  0\n",
       "Name                   0\n",
       "Mar Cap - Crore        9\n",
       "Sales Qtr - Crore    123\n",
       "Unnamed: 4           394\n",
       "dtype: int64"
      ]
     },
     "execution_count": 2,
     "metadata": {},
     "output_type": "execute_result"
    }
   ],
   "source": [
    "df.isnull().sum()"
   ]
  },
  {
   "cell_type": "code",
   "execution_count": 3,
   "id": "d617eae5-3c6c-435e-b161-d3778f62732a",
   "metadata": {},
   "outputs": [
    {
     "data": {
      "text/plain": [
       "(488, 5)"
      ]
     },
     "execution_count": 3,
     "metadata": {},
     "output_type": "execute_result"
    }
   ],
   "source": [
    "df.shape"
   ]
  },
  {
   "cell_type": "code",
   "execution_count": 4,
   "id": "640c8d91-6783-4bef-a783-4f6cada530dd",
   "metadata": {},
   "outputs": [],
   "source": [
    "# Step 3: Clean the dataset\n",
    "# Remove the first column with serial numbers\n",
    "df = df.iloc[:, 1:]\n",
    "\n",
    "# Convert all columns to float\n",
    "df = df.apply(pd.to_numeric, errors='ignore')"
   ]
  },
  {
   "cell_type": "code",
   "execution_count": 5,
   "id": "194e341e-e618-428d-a531-bd7e6eeaa637",
   "metadata": {},
   "outputs": [
    {
     "data": {
      "text/plain": [
       "Name                   0\n",
       "Mar Cap - Crore        9\n",
       "Sales Qtr - Crore    123\n",
       "Unnamed: 4           394\n",
       "dtype: int64"
      ]
     },
     "execution_count": 5,
     "metadata": {},
     "output_type": "execute_result"
    }
   ],
   "source": [
    "df.isnull().sum()"
   ]
  },
  {
   "cell_type": "code",
   "execution_count": 6,
   "id": "ee587279-5397-4d03-87d8-694f676b413b",
   "metadata": {},
   "outputs": [],
   "source": [
    "\n",
    "from sklearn.impute import KNNImputer\n",
    "\n",
    "# Step 1: Load the dataset\n",
    "df = pd.read_csv(\"Financial Analytics data.csv\")\n",
    "\n",
    "# Step 2: Initialize the KNNImputer\n",
    "knn_imputer = KNNImputer(n_neighbors=5)\n",
    "\n",
    "# Step 3: Fit the KNNImputer on the data\n",
    "knn_imputer.fit(df[['Mar Cap - Crore', 'Sales Qtr - Crore']])\n",
    "\n",
    "# Step 4: Transform the data to fill missing values\n",
    "df[['Mar Cap - Crore', 'Sales Qtr - Crore']] = knn_imputer.transform(df[['Mar Cap - Crore', 'Sales Qtr - Crore']])\n",
    "\n",
    "# Step 5: Drop the 'Unnamed: 4' column\n",
    "df = df.drop(['S.No.','Unnamed: 4'], axis=1)\n",
    "\n",
    "# Save the changes to a new CSV file\n",
    "df.to_csv(\"cleaned_Financial Analytics data.csv\", index=False)"
   ]
  },
  {
   "cell_type": "code",
   "execution_count": 7,
   "id": "51430823-c2e0-4c5c-ae0f-37549f0a6344",
   "metadata": {},
   "outputs": [
    {
     "data": {
      "text/plain": [
       "Name                 0\n",
       "Mar Cap - Crore      0\n",
       "Sales Qtr - Crore    0\n",
       "dtype: int64"
      ]
     },
     "execution_count": 7,
     "metadata": {},
     "output_type": "execute_result"
    }
   ],
   "source": [
    "df.isnull().sum()"
   ]
  },
  {
   "cell_type": "code",
   "execution_count": 8,
   "id": "a6f1706c-fa5d-4af5-a900-35cf584fdecd",
   "metadata": {},
   "outputs": [
    {
     "data": {
      "text/html": [
       "<div>\n",
       "<style scoped>\n",
       "    .dataframe tbody tr th:only-of-type {\n",
       "        vertical-align: middle;\n",
       "    }\n",
       "\n",
       "    .dataframe tbody tr th {\n",
       "        vertical-align: top;\n",
       "    }\n",
       "\n",
       "    .dataframe thead th {\n",
       "        text-align: right;\n",
       "    }\n",
       "</style>\n",
       "<table border=\"1\" class=\"dataframe\">\n",
       "  <thead>\n",
       "    <tr style=\"text-align: right;\">\n",
       "      <th></th>\n",
       "      <th>Mar Cap - Crore</th>\n",
       "      <th>Sales Qtr - Crore</th>\n",
       "    </tr>\n",
       "  </thead>\n",
       "  <tbody>\n",
       "    <tr>\n",
       "      <th>count</th>\n",
       "      <td>488.000000</td>\n",
       "      <td>488.000000</td>\n",
       "    </tr>\n",
       "    <tr>\n",
       "      <th>mean</th>\n",
       "      <td>28043.857119</td>\n",
       "      <td>4288.726003</td>\n",
       "    </tr>\n",
       "    <tr>\n",
       "      <th>std</th>\n",
       "      <td>58912.585788</td>\n",
       "      <td>9702.212684</td>\n",
       "    </tr>\n",
       "    <tr>\n",
       "      <th>min</th>\n",
       "      <td>3017.070000</td>\n",
       "      <td>47.240000</td>\n",
       "    </tr>\n",
       "    <tr>\n",
       "      <th>25%</th>\n",
       "      <td>4879.612500</td>\n",
       "      <td>711.147000</td>\n",
       "    </tr>\n",
       "    <tr>\n",
       "      <th>50%</th>\n",
       "      <td>10380.425000</td>\n",
       "      <td>1625.854000</td>\n",
       "    </tr>\n",
       "    <tr>\n",
       "      <th>75%</th>\n",
       "      <td>25502.085000</td>\n",
       "      <td>4265.270000</td>\n",
       "    </tr>\n",
       "    <tr>\n",
       "      <th>max</th>\n",
       "      <td>583436.720000</td>\n",
       "      <td>110666.930000</td>\n",
       "    </tr>\n",
       "  </tbody>\n",
       "</table>\n",
       "</div>"
      ],
      "text/plain": [
       "       Mar Cap - Crore  Sales Qtr - Crore\n",
       "count       488.000000         488.000000\n",
       "mean      28043.857119        4288.726003\n",
       "std       58912.585788        9702.212684\n",
       "min        3017.070000          47.240000\n",
       "25%        4879.612500         711.147000\n",
       "50%       10380.425000        1625.854000\n",
       "75%       25502.085000        4265.270000\n",
       "max      583436.720000      110666.930000"
      ]
     },
     "execution_count": 8,
     "metadata": {},
     "output_type": "execute_result"
    }
   ],
   "source": [
    "df.describe()"
   ]
  },
  {
   "cell_type": "code",
   "execution_count": 9,
   "id": "8aa9003c-74d7-42bc-8cb6-d21e054a1308",
   "metadata": {},
   "outputs": [
    {
     "data": {
      "image/png": "[encoded data removed]",
      "text/plain": [
       "<Figure size 1000x600 with 1 Axes>"
      ]
     },
     "metadata": {},
     "output_type": "display_data"
    }
   ],
   "source": [
    "\n",
    "# Scatter plot of Market Capitalization vs Sales Qtr\n",
    "plt.figure(figsize=(10, 6))\n",
    "plt.scatter(df[\"Mar Cap - Crore\"], df[\"Sales Qtr - Crore\"])\n",
    "plt.xlabel(\"Market Capitalization (in crores)\")\n",
    "plt.ylabel(\"Quarterly Sales (in crores)\")\n",
    "plt.title(\"Market Capitalization vs Quarterly Sales\")\n",
    "plt.show()"
   ]
  },
  {
   "cell_type": "code",
   "execution_count": 10,
   "id": "59a82e6a-d22d-487f-953d-45289d6e8c67",
   "metadata": {},
   "outputs": [
    {
     "data": {
      "text/html": [
       "<div>\n",
       "<style scoped>\n",
       "    .dataframe tbody tr th:only-of-type {\n",
       "        vertical-align: middle;\n",
       "    }\n",
       "\n",
       "    .dataframe tbody tr th {\n",
       "        vertical-align: top;\n",
       "    }\n",
       "\n",
       "    .dataframe thead th {\n",
       "        text-align: right;\n",
       "    }\n",
       "</style>\n",
       "<table border=\"1\" class=\"dataframe\">\n",
       "  <thead>\n",
       "    <tr style=\"text-align: right;\">\n",
       "      <th></th>\n",
       "      <th>Name</th>\n",
       "      <th>Mar Cap - Crore</th>\n",
       "      <th>Sales Qtr - Crore</th>\n",
       "    </tr>\n",
       "  </thead>\n",
       "  <tbody>\n",
       "    <tr>\n",
       "      <th>0</th>\n",
       "      <td>Reliance Inds.</td>\n",
       "      <td>583436.72</td>\n",
       "      <td>99810.00</td>\n",
       "    </tr>\n",
       "    <tr>\n",
       "      <th>1</th>\n",
       "      <td>TCS</td>\n",
       "      <td>563709.84</td>\n",
       "      <td>30904.00</td>\n",
       "    </tr>\n",
       "    <tr>\n",
       "      <th>2</th>\n",
       "      <td>HDFC Bank</td>\n",
       "      <td>482953.59</td>\n",
       "      <td>20581.27</td>\n",
       "    </tr>\n",
       "    <tr>\n",
       "      <th>3</th>\n",
       "      <td>ITC</td>\n",
       "      <td>320985.27</td>\n",
       "      <td>9772.02</td>\n",
       "    </tr>\n",
       "    <tr>\n",
       "      <th>4</th>\n",
       "      <td>H D F C</td>\n",
       "      <td>289497.37</td>\n",
       "      <td>16840.51</td>\n",
       "    </tr>\n",
       "  </tbody>\n",
       "</table>\n",
       "</div>"
      ],
      "text/plain": [
       "             Name  Mar Cap - Crore  Sales Qtr - Crore\n",
       "0  Reliance Inds.        583436.72           99810.00\n",
       "1             TCS        563709.84           30904.00\n",
       "2       HDFC Bank        482953.59           20581.27\n",
       "3             ITC        320985.27            9772.02\n",
       "4         H D F C        289497.37           16840.51"
      ]
     },
     "execution_count": 10,
     "metadata": {},
     "output_type": "execute_result"
    }
   ],
   "source": [
    "df.head()"
   ]
  },
  {
   "cell_type": "code",
   "execution_count": 12,
   "id": "b4cb66e8-7745-4a45-82d0-40eb24c91036",
   "metadata": {},
   "outputs": [
    {
     "data": {
      "text/plain": [
       "Name                 0\n",
       "Mar Cap - Crore      0\n",
       "Sales Qtr - Crore    0\n",
       "dtype: int64"
      ]
     },
     "execution_count": 12,
     "metadata": {},
     "output_type": "execute_result"
    }
   ],
   "source": [
    "df.isnull().sum()"
   ]
  },
  {
   "cell_type": "code",
   "execution_count": 17,
   "id": "c4c6a1a0-d397-4bfc-9b1f-dac88762208a",
   "metadata": {},
   "outputs": [
    {
     "name": "stdout",
     "output_type": "stream",
     "text": [
      "Correlation between Market Capitalization and Sales Qtr:  62.542993881736066\n"
     ]
    }
   ],
   "source": [
    "# Corrected code to find the correlation between 'Mar Cap - Crore' and 'Sales Qtr - Crore'\n",
    "corr = df['Mar Cap - Crore'].corr(df['Sales Qtr - Crore'])\n",
    "print(\"Correlation between Market Capitalization and Sales Qtr: \", corr*100)"
   ]
  },
  {
   "cell_type": "code",
   "execution_count": null,
   "id": "a734d771-b3dd-4308-a66e-950a31b1717a",
   "metadata": {},
   "outputs": [],
   "source": []
  }
 ],
 "metadata": {
  "kernelspec": {
   "display_name": "Python 3 (ipykernel)",
   "language": "python",
   "name": "python3"
  },
  "language_info": {
   "codemirror_mode": {
    "name": "ipython",
    "version": 3
   },
   "file_extension": ".py",
   "mimetype": "text/x-python",
   "name": "python",
   "nbconvert_exporter": "python",
   "pygments_lexer": "ipython3",
   "version": "3.11.7"
  }
 },
 "nbformat": 4,
 "nbformat_minor": 5
}
